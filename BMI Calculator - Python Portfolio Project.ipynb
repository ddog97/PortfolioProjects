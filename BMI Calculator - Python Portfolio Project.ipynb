{
 "cells": [
  {
   "cell_type": "code",
   "execution_count": 43,
   "id": "b0ea4873-ab1b-48b9-bab5-69a570a9399c",
   "metadata": {},
   "outputs": [
    {
     "name": "stdin",
     "output_type": "stream",
     "text": [
      "Enter your name:  Richard\n",
      "Enter your weight in kilograms:  96\n",
      "Enter your height in centimetres:  185\n"
     ]
    },
    {
     "name": "stdout",
     "output_type": "stream",
     "text": [
      "28.04967129291453\n",
      "Richard, you fall within the overweight range.\n"
     ]
    }
   ],
   "source": [
    "name = input(\"Enter your name: \")\n",
    "\n",
    "weight = int(input(\"Enter your weight in kilograms: \"))\n",
    "\n",
    "height = int(input(\"Enter your height in centimetres: \"))\n",
    "\n",
    "BMI = weight / ((height / 100) ** 2)\n",
    "\n",
    "print(BMI)\n",
    "\n",
    "if BMI <= 18.5:\n",
    "    print(name + \", you fall within the underweight range. Please consult a GP.\")\n",
    "elif BMI < 25:\n",
    "    print(name + \", you fall within the Healthy weight range! Please consult a GP if you still have concerns.\")\n",
    "elif BMI < 30:\n",
    "    print(name + \", you fall within the overweight range. Please consult a GP.\")\n",
    "else:\n",
    "    print(name + \", you fall within the obese range. Please consult a GP.\")"
   ]
  },
  {
   "cell_type": "code",
   "execution_count": 41,
   "id": "82ca626e-e544-49a3-9781-da3aa5dcb212",
   "metadata": {},
   "outputs": [
    {
     "name": "stdout",
     "output_type": "stream",
     "text": [
      "Richard, you fall within the overweight range.\n"
     ]
    }
   ],
   "source": []
  },
  {
   "cell_type": "code",
   "execution_count": null,
   "id": "9ced607a-729c-47e7-a3c5-65ae571905ec",
   "metadata": {},
   "outputs": [],
   "source": []
  },
  {
   "cell_type": "code",
   "execution_count": null,
   "id": "0e6e1626-db33-4145-adf8-8647d5fa82f9",
   "metadata": {},
   "outputs": [],
   "source": []
  },
  {
   "cell_type": "code",
   "execution_count": null,
   "id": "2205638c-e063-4491-8bdc-76f81d8a19d6",
   "metadata": {},
   "outputs": [],
   "source": []
  },
  {
   "cell_type": "code",
   "execution_count": null,
   "id": "4ccadc3e-5dad-4d4b-9b41-e74b9606d132",
   "metadata": {},
   "outputs": [],
   "source": [
    "#BMI = (weight in pounds x 703) / (height in inches x height in inches)"
   ]
  },
  {
   "cell_type": "code",
   "execution_count": null,
   "id": "c2a6c857-bab4-44f7-9200-c13c1d135d18",
   "metadata": {},
   "outputs": [],
   "source": []
  },
  {
   "cell_type": "code",
   "execution_count": null,
   "id": "58d6dee0-ec8b-4690-8c33-82c3e95e618e",
   "metadata": {},
   "outputs": [],
   "source": []
  },
  {
   "cell_type": "code",
   "execution_count": null,
   "id": "bedf5cb8-1f8c-46ae-ae9f-a4d1d8dbc40b",
   "metadata": {},
   "outputs": [],
   "source": [
    "\"\"\"Adult Body Mass Index or BMI\n",
    "BMI is a person’s weight in kilograms divided by the square of height in meters. A high BMI can indicate high body fatness, and a low BMI can indicate too low body fatness. To calculate your BMI, see the BMI Calculator. Or determine your BMI by finding your height and weight in this BMI Index Chart.\n",
    "\n",
    "If your BMI is less than 18.5, it falls within the underweight range.\n",
    "If your BMI is 18.5 to 24.9, it falls within the Healthy Weight range.\n",
    "If your BMI is 25.0 to 29.9, it falls within the overweight range.\n",
    "If your BMI is 30.0 or higher, it falls within the obese range.Adult Body Mass Index or BMI\n",
    "BMI is a person’s weight in kilograms divided by the square of height in meters. A high BMI can indicate high body fatness, and a low BMI can indicate too low body fatness. To calculate your BMI, see the BMI Calculator. Or determine your BMI by finding your height and weight in this BMI Index Chart.\n",
    "\n",
    "If your BMI is less than 18.5, it falls within the underweight range.\n",
    "If your BMI is 18.5 to 24.9, it falls within the Healthy Weight range.\n",
    "If your BMI is 25.0 to 29.9, it falls within the overweight range.\n",
    "If your BMI is 30.0 or higher, it falls within the obese range. \"\"\""
   ]
  },
  {
   "cell_type": "code",
   "execution_count": null,
   "id": "ae45be21-80af-4d83-bf04-224760e6c8fe",
   "metadata": {},
   "outputs": [],
   "source": []
  },
  {
   "cell_type": "code",
   "execution_count": null,
   "id": "949d70b2-da1d-4e98-8aaf-44ff2b1b88ae",
   "metadata": {},
   "outputs": [],
   "source": []
  },
  {
   "cell_type": "code",
   "execution_count": null,
   "id": "ee1ae9ea-a715-4ea7-a230-0d870b3b6610",
   "metadata": {},
   "outputs": [],
   "source": []
  },
  {
   "cell_type": "code",
   "execution_count": null,
   "id": "131acdc0-1838-4d1f-8255-e1d2bf29f469",
   "metadata": {},
   "outputs": [],
   "source": []
  },
  {
   "cell_type": "code",
   "execution_count": null,
   "id": "5de7e7f2-0705-453b-8be7-471a22704c88",
   "metadata": {},
   "outputs": [],
   "source": []
  },
  {
   "cell_type": "code",
   "execution_count": null,
   "id": "8835327a-0a2e-4eff-b913-fee7153a0515",
   "metadata": {},
   "outputs": [],
   "source": []
  },
  {
   "cell_type": "code",
   "execution_count": null,
   "id": "7fe870fa-fb2e-4b7d-af5a-32452e8e7382",
   "metadata": {},
   "outputs": [],
   "source": []
  },
  {
   "cell_type": "code",
   "execution_count": null,
   "id": "9c1e2290-4380-44ee-becd-a886b7abe774",
   "metadata": {},
   "outputs": [],
   "source": []
  }
 ],
 "metadata": {
  "kernelspec": {
   "display_name": "Python 3 (ipykernel)",
   "language": "python",
   "name": "python3"
  },
  "language_info": {
   "codemirror_mode": {
    "name": "ipython",
    "version": 3
   },
   "file_extension": ".py",
   "mimetype": "text/x-python",
   "name": "python",
   "nbconvert_exporter": "python",
   "pygments_lexer": "ipython3",
   "version": "3.11.7"
  }
 },
 "nbformat": 4,
 "nbformat_minor": 5
}
