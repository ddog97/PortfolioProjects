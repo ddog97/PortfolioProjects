{
 "cells": [
  {
   "cell_type": "code",
   "execution_count": 78,
   "id": "ae10c8b6-9dd0-4070-82bf-55dfa2b7ea8b",
   "metadata": {},
   "outputs": [],
   "source": [
    "# import libraries\n",
    "\n",
    "from bs4 import BeautifulSoup\n",
    "import requests\n",
    "import smtplib\n",
    "import time\n",
    "import datetime\n",
    "import pandas as pd"
   ]
  },
  {
   "cell_type": "code",
   "execution_count": 80,
   "id": "c39048a6-431f-4ebe-8853-b725221641fc",
   "metadata": {},
   "outputs": [
    {
     "name": "stdout",
     "output_type": "stream",
     "text": [
      "Introductory Discrete Mathematics\n",
      "26.61\n"
     ]
    }
   ],
   "source": [
    "# Connect to website\n",
    "\n",
    "URL = 'https://www.amazon.com.au/dp/0486691152?ref_=mr_referred_us_au_au'\n",
    "\n",
    "headers = {\"User-Agent\": \"Mozilla/5.0 (Windows NT 10.0; Win64; x64) AppleWebKit/537.36 (KHTML, like Gecko) Chrome/126.0.0.0 Safari/537.36\", \"Accept-Encoding\":\"gzip, deflate\", \"Accept\":\"text/html,application/xhtml+xml,application/xml;q=0.9,*/*;q=0.8\", \"DNT\":\"1\",\"Connection\":\"close\", \"Upgrade-Insecure-Requests\":\"1\"}\n",
    "\n",
    "page = requests.get(URL, headers = headers)\n",
    "\n",
    "soup1 = BeautifulSoup(page.content, 'html.parser')\n",
    "\n",
    "soup2 = BeautifulSoup(soup1.prettify(), 'html.parser')\n",
    "\n",
    "# Extract the product title\n",
    "title = soup2.find(id='productTitle')\n",
    "if title:\n",
    "    title = title.get_text().strip()\n",
    "else:\n",
    "    title = \"Title not found\"\n",
    "\n",
    "# Extract the product price\n",
    "whole_price = soup1.find('span', class_='a-price-whole')\n",
    "fractional_price = soup1.find('span', class_='a-price-fraction')\n",
    "\n",
    "if whole_price and fractional_price:\n",
    "    price = whole_price.get_text().strip() + fractional_price.get_text().strip()\n",
    "elif whole_price:\n",
    "    price = whole_price.get_text().strip()\n",
    "else:\n",
    "    price = \"Price not found\"\n",
    "    \n",
    "print(title)\n",
    "print(price)"
   ]
  },
  {
   "cell_type": "code",
   "execution_count": 94,
   "id": "c8697657-b2f2-4711-8c7e-cc3a6130619b",
   "metadata": {},
   "outputs": [],
   "source": [
    "# Create CSV\n",
    "\n",
    "import csv\n",
    "\n",
    "header = ['Title', 'Price', 'Date']\n",
    "data = [title, price, today]\n",
    "\n",
    "with open('AmazonWebScraperDataset.csv', 'w', newline = '', encoding = 'UTF8') as f:\n",
    "    writer = csv.writer(f)\n",
    "    writer.writerow(header)\n",
    "    writer.writerow(data)"
   ]
  },
  {
   "cell_type": "code",
   "execution_count": 86,
   "id": "68c8d1f5-d0d8-421a-aff7-85a399821d10",
   "metadata": {},
   "outputs": [
    {
     "name": "stdout",
     "output_type": "stream",
     "text": [
      "2024-07-04\n"
     ]
    }
   ],
   "source": [
    "import datetime\n",
    "\n",
    "today = datetime.date.today()\n",
    "\n",
    "print(today)"
   ]
  },
  {
   "cell_type": "code",
   "execution_count": 100,
   "id": "d7beb468-04d2-40c6-ac94-09917962b6f9",
   "metadata": {},
   "outputs": [
    {
     "name": "stdout",
     "output_type": "stream",
     "text": [
      "                               Title  Price        Date\n",
      "0  Introductory Discrete Mathematics  26.61  2024-07-04\n",
      "1  Introductory Discrete Mathematics  26.61  2024-07-04\n"
     ]
    }
   ],
   "source": [
    "df = pd.read_csv(r\"C:\\Users\\Richard\\AmazonWebScraperDataset.csv\")\n",
    "\n",
    "print(df)"
   ]
  },
  {
   "cell_type": "code",
   "execution_count": 102,
   "id": "43dcd6eb-2540-49cb-8d9f-f2a8970639bb",
   "metadata": {},
   "outputs": [],
   "source": [
    "# Appending data to CSV\n",
    "\n",
    "with open('AmazonWebScraperDataset.csv', 'a+', newline = '', encoding = 'UTF8') as f:\n",
    "    writer = csv.writer(f)\n",
    "    writer.writerow(data)"
   ]
  },
  {
   "cell_type": "code",
   "execution_count": 108,
   "id": "d98028cd-5ea3-40b1-996d-c5f41778a883",
   "metadata": {},
   "outputs": [],
   "source": [
    "\n",
    "def update_price():\n",
    "    URL = 'https://www.amazon.com.au/dp/0486691152?ref_=mr_referred_us_au_au'\n",
    "\n",
    "    headers = {\"User-Agent\": \"Mozilla/5.0 (Windows NT 10.0; Win64; x64) AppleWebKit/537.36 (KHTML, like Gecko) Chrome/126.0.0.0 Safari/537.36\", \"Accept-Encoding\":\"gzip, deflate\", \"Accept\":\"text/html,application/xhtml+xml,application/xml;q=0.9,*/*;q=0.8\", \"DNT\":\"1\",\"Connection\":\"close\", \"Upgrade-Insecure-Requests\":\"1\"}\n",
    "\n",
    "    page = requests.get(URL, headers = headers)\n",
    "\n",
    "    soup1 = BeautifulSoup(page.content, 'html.parser')\n",
    "\n",
    "    soup2 = BeautifulSoup(soup1.prettify(), 'html.parser')\n",
    "\n",
    "    # Extract the product title\n",
    "    title = soup2.find(id='productTitle')\n",
    "    if title:\n",
    "        title = title.get_text().strip()\n",
    "    else:\n",
    "        title = \"Title not found\"\n",
    "\n",
    "    # Extract the product price\n",
    "    whole_price = soup1.find('span', class_='a-price-whole')\n",
    "    fractional_price = soup1.find('span', class_='a-price-fraction')\n",
    "\n",
    "    if whole_price and fractional_price:\n",
    "        price = whole_price.get_text().strip() + fractional_price.get_text().strip()\n",
    "    elif whole_price:\n",
    "        price = whole_price.get_text().strip()\n",
    "    else:\n",
    "        price = \"Price not found\"\n",
    "\n",
    "    import datetime\n",
    "\n",
    "    today = datetime.date.today()\n",
    "\n",
    "    import csv\n",
    "\n",
    "    header = ['Title', 'Price', 'Date']\n",
    "    data = [title, price, today]\n",
    "\n",
    "    with open('AmazonWebScraperDataset.csv', 'a+', newline = '', encoding = 'UTF8') as f:\n",
    "        writer = csv.writer(f)\n",
    "        writer.writerow(data)"
   ]
  },
  {
   "cell_type": "code",
   "execution_count": null,
   "id": "8b54ad16-65d0-4670-990a-ebca937bfaab",
   "metadata": {},
   "outputs": [],
   "source": [
    "while(True):\n",
    "    update_price()\n",
    "    time.sleep(86400)"
   ]
  },
  {
   "cell_type": "code",
   "execution_count": null,
   "id": "879c3eec-1e3e-48da-a4a5-264a0d8fa0bc",
   "metadata": {},
   "outputs": [],
   "source": [
    "import pandas as pd\n",
    "\n",
    "df = pd.read_csv(r\"C:\\Users\\Richard\\AmazonWebScraperDataset.csv\")\n",
    "\n",
    "print(df)"
   ]
  },
  {
   "cell_type": "code",
   "execution_count": null,
   "id": "756f3b1c-a5c3-42b2-886f-796121367298",
   "metadata": {},
   "outputs": [],
   "source": []
  }
 ],
 "metadata": {
  "kernelspec": {
   "display_name": "Python 3 (ipykernel)",
   "language": "python",
   "name": "python3"
  },
  "language_info": {
   "codemirror_mode": {
    "name": "ipython",
    "version": 3
   },
   "file_extension": ".py",
   "mimetype": "text/x-python",
   "name": "python",
   "nbconvert_exporter": "python",
   "pygments_lexer": "ipython3",
   "version": "3.11.7"
  }
 },
 "nbformat": 4,
 "nbformat_minor": 5
}
