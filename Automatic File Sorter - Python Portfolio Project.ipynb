{
 "cells": [
  {
   "cell_type": "markdown",
   "id": "cbdb5a05-276b-4d8e-958c-aea41cd49570",
   "metadata": {},
   "source": [
    "# Automatic File Sorter in File Explorer"
   ]
  },
  {
   "cell_type": "code",
   "execution_count": 11,
   "id": "b92fe4e0-e86d-4f61-8fa2-ae7413ad37af",
   "metadata": {},
   "outputs": [],
   "source": [
    "import os, shutil"
   ]
  },
  {
   "cell_type": "code",
   "execution_count": 25,
   "id": "4fe7131c-0184-4acf-8dee-1fdadd826128",
   "metadata": {},
   "outputs": [],
   "source": [
    "path = r\"C:/Users/Richard/Downloads/Python Project/\""
   ]
  },
  {
   "cell_type": "code",
   "execution_count": 31,
   "id": "c57cd804-b684-41ea-9a82-e85ba9c19766",
   "metadata": {},
   "outputs": [],
   "source": [
    "file_name = os.listdir(path)"
   ]
  },
  {
   "cell_type": "code",
   "execution_count": 45,
   "id": "d83a183d-751b-4525-90f4-3b4d36a1281d",
   "metadata": {},
   "outputs": [
    {
     "name": "stdout",
     "output_type": "stream",
     "text": [
      "C:/Users/Richard/Downloads/Python Project/xlsx files\n",
      "C:/Users/Richard/Downloads/Python Project/image files\n",
      "C:/Users/Richard/Downloads/Python Project/text files\n"
     ]
    }
   ],
   "source": [
    "folder_names = ['xlsx files', 'image files', 'text files']\n",
    "\n",
    "for loop in range(0,3):\n",
    "    if not os.path.exists(path + folder_names[loop]):\n",
    "        print(path + folder_names[loop])\n",
    "        os.makedirs(path + folder_names[loop])\n",
    "\n",
    "for file in file_name:\n",
    "    if \".xlsx\" in file and not os.path.exists(path + \"xlsx files/\" + file):\n",
    "        shutil.move(path + file, path + \"xlsx files/\" + file)\n",
    "    elif \".jpg\" in file and not os.path.exists(path + \"image files/\" + file):\n",
    "        shutil.move(path + file, path + \"image files/\" + file)\n",
    "    elif \".txt\" in file and not os.path.exists(path + \"text files/\" + file):\n",
    "        shutil.move(path + file, path + \"text files/\" + file)"
   ]
  },
  {
   "cell_type": "code",
   "execution_count": null,
   "id": "fa8df78e-e93c-470a-b313-4d2a7302031c",
   "metadata": {},
   "outputs": [],
   "source": []
  }
 ],
 "metadata": {
  "kernelspec": {
   "display_name": "Python 3 (ipykernel)",
   "language": "python",
   "name": "python3"
  },
  "language_info": {
   "codemirror_mode": {
    "name": "ipython",
    "version": 3
   },
   "file_extension": ".py",
   "mimetype": "text/x-python",
   "name": "python",
   "nbconvert_exporter": "python",
   "pygments_lexer": "ipython3",
   "version": "3.11.7"
  }
 },
 "nbformat": 4,
 "nbformat_minor": 5
}
